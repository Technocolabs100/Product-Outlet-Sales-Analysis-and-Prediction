
import numpy as np
import pandas as pd
import matplotlib.pyplot as plt
import seaborn as sns
import pickle


from google.colab import files


uploaded = files.upload()

df = pd.read_csv('Train.csv')
df.head(10)



plt.hist(df['Outlet_Location_Type'])
sns.displot(df['Outlet_Size'])


plt.pie(df['Item_Type'].value_counts(), labels=df['Item_Type'].value_counts().index)
plt.show()


sns.displot(df['Item_Weight'])

Missing Value Treatment

df.describe()

df.drop('Item_Identifier',axis=1,inplace=True)
df.drop('Outlet_Establishment_Year',axis=1,inplace=True)

df.head(10)

print((df["Item_Visibility"] == 0).sum())


from numpy import nan
df["Item_Visibility"] = df["Item_Visibility"].replace(0, nan)
df.head(20)

from sklearn.impute import KNNImputer
imputer = KNNImputer(n_neighbors=3)
df['Item_Visibility'] = imputer.fit_transform(df[['Item_Visibility']])
df['Item_Weight'] = imputer.fit_transform(df[['Item_Weight']])
df.head(20)

obj_df = df.select_dtypes(include=['object']).copy()


obj_df.head(20)

obj_df["Outlet_Size"].value_counts()

df.head(20)

Data Encoding

from sklearn.preprocessing import LabelEncoder

le = LabelEncoder()
df['Item_Fat_Content'] = le.fit_transform(df['Item_Fat_Content'])
df['Item_Type'] = le.fit_transform(df['Item_Type'])
df['Outlet_Identifier'] = le.fit_transform(df['Outlet_Identifier'])

df.head(20)

from sklearn.preprocessing import OneHotEncoder
df = pd.get_dummies(df, columns=['Outlet_Size', 'Outlet_Location_Type', 'Outlet_Type'])
df.head(20)


